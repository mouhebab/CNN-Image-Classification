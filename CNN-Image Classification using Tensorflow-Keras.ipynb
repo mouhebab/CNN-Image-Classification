{
 "cells": [
  {
   "cell_type": "markdown",
   "metadata": {},
   "source": [
    "<h3>CNN: Image classification<h3/>"
   ]
  },
  {
   "cell_type": "markdown",
   "metadata": {},
   "source": [
    "<br>Importing libraries<br/>"
   ]
  },
  {
   "cell_type": "code",
   "execution_count": 2,
   "metadata": {},
   "outputs": [],
   "source": [
    "import tensorflow as tf\n",
    "from tensorflow.keras import datasets, layers, models\n",
    "import matplotlib.pyplot as plt\n",
    "import numpy as np"
   ]
  },
  {
   "cell_type": "markdown",
   "metadata": {},
   "source": [
    "Loading data"
   ]
  },
  {
   "cell_type": "code",
   "execution_count": 3,
   "metadata": {},
   "outputs": [],
   "source": [
    "(X_train, y_train), (X_test,y_test) = datasets.cifar10.load_data()"
   ]
  },
  {
   "cell_type": "markdown",
   "metadata": {},
   "source": [
    "Exploring and reshaping data"
   ]
  },
  {
   "cell_type": "code",
   "execution_count": 4,
   "metadata": {},
   "outputs": [
    {
     "name": "stdout",
     "output_type": "stream",
     "text": [
      "shapes\n",
      "X_train (50000, 32, 32, 3) y_train (50000, 1)\n",
      "X_test (10000, 32, 32, 3) y_test (10000, 1)\n"
     ]
    }
   ],
   "source": [
    "print(\"shapes\")\n",
    "print(\"X_train\",X_train.shape,\"y_train\",y_train.shape)\n",
    "print(\"X_test\",X_test.shape,\"y_test\",y_test.shape)"
   ]
  },
  {
   "cell_type": "code",
   "execution_count": 5,
   "metadata": {},
   "outputs": [
    {
     "name": "stdout",
     "output_type": "stream",
     "text": [
      "X_train [[[154 177 187]\n",
      "  [126 137 136]\n",
      "  [105 104  95]\n",
      "  ...\n",
      "  [ 91  95  71]\n",
      "  [ 87  90  71]\n",
      "  [ 79  81  70]]\n",
      "\n",
      " [[140 160 169]\n",
      "  [145 153 154]\n",
      "  [125 125 118]\n",
      "  ...\n",
      "  [ 96  99  78]\n",
      "  [ 77  80  62]\n",
      "  [ 71  73  61]]\n",
      "\n",
      " [[140 155 164]\n",
      "  [139 146 149]\n",
      "  [115 115 112]\n",
      "  ...\n",
      "  [ 79  82  64]\n",
      "  [ 68  70  55]\n",
      "  [ 67  69  55]]\n",
      "\n",
      " ...\n",
      "\n",
      " [[175 167 166]\n",
      "  [156 154 160]\n",
      "  [154 160 170]\n",
      "  ...\n",
      "  [ 42  34  36]\n",
      "  [ 61  53  57]\n",
      "  [ 93  83  91]]\n",
      "\n",
      " [[165 154 128]\n",
      "  [156 152 130]\n",
      "  [159 161 142]\n",
      "  ...\n",
      "  [103  93  96]\n",
      "  [123 114 120]\n",
      "  [131 121 131]]\n",
      "\n",
      " [[163 148 120]\n",
      "  [158 148 122]\n",
      "  [163 156 133]\n",
      "  ...\n",
      "  [143 133 139]\n",
      "  [143 134 142]\n",
      "  [143 133 144]]]\n",
      "y_train [[6]\n",
      " [9]\n",
      " [9]]\n"
     ]
    }
   ],
   "source": [
    "print(\"X_train\",X_train[1])\n",
    "print(\"y_train\",y_train[:3])"
   ]
  },
  {
   "cell_type": "code",
   "execution_count": 6,
   "metadata": {},
   "outputs": [
    {
     "name": "stdout",
     "output_type": "stream",
     "text": [
      "y_train [6 9 9]\n"
     ]
    }
   ],
   "source": [
    "y_train = y_train.reshape(-1,)\n",
    "y_test = y_test.reshape(-1,)\n",
    "print(\"y_train\",y_train[:3])"
   ]
  },
  {
   "cell_type": "code",
   "execution_count": 7,
   "metadata": {},
   "outputs": [
    {
     "data": {
      "image/png": "[encoded data removed]",
      "text/plain": [
       "<Figure size 72x72 with 1 Axes>"
      ]
     },
     "metadata": {
      "needs_background": "light"
     },
     "output_type": "display_data"
    }
   ],
   "source": [
    "classes = [\"airplane\",\"automobile\",\"bird\",\"cat\",\"deer\",\"dog\",\"frog\",\"horse\",\"ship\",\"truck\"]\n",
    "def plot_image(X, y, index):\n",
    "    plt.figure(figsize = (1,1))\n",
    "    plt.imshow(X[index])\n",
    "    plt.xlabel(classes[y[index]])\n",
    "plot_image(X_train, y_train, 0)"
   ]
  },
  {
   "cell_type": "markdown",
   "metadata": {},
   "source": [
    "Data normalization "
   ]
  },
  {
   "cell_type": "code",
   "execution_count": 8,
   "metadata": {},
   "outputs": [
    {
     "name": "stdout",
     "output_type": "stream",
     "text": [
      "X_train [[[0.60392157 0.69411765 0.73333333]\n",
      "  [0.49411765 0.5372549  0.53333333]\n",
      "  [0.41176471 0.40784314 0.37254902]\n",
      "  ...\n",
      "  [0.35686275 0.37254902 0.27843137]\n",
      "  [0.34117647 0.35294118 0.27843137]\n",
      "  [0.30980392 0.31764706 0.2745098 ]]\n",
      "\n",
      " [[0.54901961 0.62745098 0.6627451 ]\n",
      "  [0.56862745 0.6        0.60392157]\n",
      "  [0.49019608 0.49019608 0.4627451 ]\n",
      "  ...\n",
      "  [0.37647059 0.38823529 0.30588235]\n",
      "  [0.30196078 0.31372549 0.24313725]\n",
      "  [0.27843137 0.28627451 0.23921569]]\n",
      "\n",
      " [[0.54901961 0.60784314 0.64313725]\n",
      "  [0.54509804 0.57254902 0.58431373]\n",
      "  [0.45098039 0.45098039 0.43921569]\n",
      "  ...\n",
      "  [0.30980392 0.32156863 0.25098039]\n",
      "  [0.26666667 0.2745098  0.21568627]\n",
      "  [0.2627451  0.27058824 0.21568627]]\n",
      "\n",
      " ...\n",
      "\n",
      " [[0.68627451 0.65490196 0.65098039]\n",
      "  [0.61176471 0.60392157 0.62745098]\n",
      "  [0.60392157 0.62745098 0.66666667]\n",
      "  ...\n",
      "  [0.16470588 0.13333333 0.14117647]\n",
      "  [0.23921569 0.20784314 0.22352941]\n",
      "  [0.36470588 0.3254902  0.35686275]]\n",
      "\n",
      " [[0.64705882 0.60392157 0.50196078]\n",
      "  [0.61176471 0.59607843 0.50980392]\n",
      "  [0.62352941 0.63137255 0.55686275]\n",
      "  ...\n",
      "  [0.40392157 0.36470588 0.37647059]\n",
      "  [0.48235294 0.44705882 0.47058824]\n",
      "  [0.51372549 0.4745098  0.51372549]]\n",
      "\n",
      " [[0.63921569 0.58039216 0.47058824]\n",
      "  [0.61960784 0.58039216 0.47843137]\n",
      "  [0.63921569 0.61176471 0.52156863]\n",
      "  ...\n",
      "  [0.56078431 0.52156863 0.54509804]\n",
      "  [0.56078431 0.5254902  0.55686275]\n",
      "  [0.56078431 0.52156863 0.56470588]]]\n"
     ]
    }
   ],
   "source": [
    "X_train = X_train / 255.0\n",
    "X_test = X_test / 255.0\n",
    "\n",
    "print(\"X_train\",X_train[1])"
   ]
  },
  {
   "cell_type": "markdown",
   "metadata": {},
   "source": [
    "CNN model"
   ]
  },
  {
   "cell_type": "code",
   "execution_count": 9,
   "metadata": {},
   "outputs": [],
   "source": [
    "cnn = models.Sequential([\n",
    "    layers.Conv2D(filters=32, kernel_size=(3, 3), activation='relu', input_shape=(32, 32, 3)),\n",
    "    layers.MaxPooling2D((2, 2)),\n",
    "    \n",
    "    layers.Conv2D(filters=64, kernel_size=(3, 3), activation='relu'),\n",
    "    layers.MaxPooling2D((2, 2)),\n",
    "    \n",
    "    layers.Flatten(),\n",
    "    layers.Dense(64, activation='relu'),\n",
    "    layers.Dense(64, activation='relu'),\n",
    "    layers.Dense(64, activation='relu'),\n",
    "    layers.Dense(10, activation='softmax')\n",
    "])\n",
    "cnn.compile(optimizer='adam',\n",
    "              loss='sparse_categorical_crossentropy',\n",
    "              metrics=['accuracy'])"
   ]
  },
  {
   "cell_type": "code",
   "execution_count": null,
   "metadata": {},
   "outputs": [
    {
     "name": "stdout",
     "output_type": "stream",
     "text": [
      "Epoch 1/10\n",
      "1563/1563 [==============================] - 56s 34ms/step - loss: 1.7612 - accuracy: 0.3429\n",
      "Epoch 2/10\n",
      "1563/1563 [==============================] - 60s 38ms/step - loss: 1.1611 - accuracy: 0.5902\n",
      "Epoch 3/10\n",
      "1475/1563 [===========================>..] - ETA: 2s - loss: 0.9804 - accuracy: 0.6535"
     ]
    }
   ],
   "source": [
    "cnn.fit(X_train, y_train, epochs=10)\n",
    "cnn.evaluate(X_test,y_test)"
   ]
  },
  {
   "cell_type": "markdown",
   "metadata": {},
   "source": [
    "Model evaluation "
   ]
  },
  {
   "cell_type": "code",
   "execution_count": null,
   "metadata": {},
   "outputs": [],
   "source": [
    "from sklearn.metrics import confusion_matrix , classification_report\n",
    "import numpy as np\n",
    "y_pred = cnn.predict(X_test)\n",
    "y_pred_classes = [np.argmax(element) for element in y_pred]\n",
    "\n",
    "print(\"Classification Report: \\n\", classification_report(y_test, y_pred_classes))"
   ]
  },
  {
   "cell_type": "code",
   "execution_count": null,
   "metadata": {},
   "outputs": [],
   "source": [
    "cm = tf.math.confusion_matrix(labels=y_test,predictions=y_pred_classes)\n",
    "\n",
    "import seaborn as sn\n",
    "plt.figure(figsize = (10,7))\n",
    "sn.heatmap(cm, annot=True, fmt='d')\n",
    "plt.xlabel('Predicted')\n",
    "plt.ylabel('Truth')"
   ]
  },
  {
   "cell_type": "markdown",
   "metadata": {},
   "source": [
    "Manual Testing "
   ]
  },
  {
   "cell_type": "code",
   "execution_count": null,
   "metadata": {},
   "outputs": [],
   "source": [
    "plot_image(X_test, y_test,50)"
   ]
  },
  {
   "cell_type": "code",
   "execution_count": null,
   "metadata": {},
   "outputs": [],
   "source": []
  }
 ],
 "metadata": {
  "kernelspec": {
   "display_name": "Python 3",
   "language": "python",
   "name": "python3"
  },
  "language_info": {
   "codemirror_mode": {
    "name": "ipython",
    "version": 3
   },
   "file_extension": ".py",
   "mimetype": "text/x-python",
   "name": "python",
   "nbconvert_exporter": "python",
   "pygments_lexer": "ipython3",
   "version": "3.7.7"
  }
 },
 "nbformat": 4,
 "nbformat_minor": 4
}
